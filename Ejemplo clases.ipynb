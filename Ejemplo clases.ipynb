{
  "nbformat": 4,
  "nbformat_minor": 0,
  "metadata": {
    "colab": {
      "provenance": [],
      "authorship_tag": "ABX9TyOwiQDgIB2PBW+EeKYLTFcI",
      "include_colab_link": true
    },
    "kernelspec": {
      "name": "python3",
      "display_name": "Python 3"
    },
    "language_info": {
      "name": "python"
    }
  },
  "cells": [
    {
      "cell_type": "markdown",
      "metadata": {
        "id": "view-in-github",
        "colab_type": "text"
      },
      "source": [
        "<a href=\"https://colab.research.google.com/github/Ruy8/Ruy8/blob/main/Ejemplo%20clases.ipynb\" target=\"_parent\"><img src=\"https://colab.research.google.com/assets/colab-badge.svg\" alt=\"Open In Colab\"/></a>"
      ]
    },
    {
      "cell_type": "code",
      "execution_count": 1,
      "metadata": {
        "id": "XNelRpe3wgC3"
      },
      "outputs": [],
      "source": [
        "import pandas as pd\n",
        "import numpy as np\n",
        "import matplotlib.pyplot as plt\n",
        "import io"
      ]
    },
    {
      "cell_type": "code",
      "source": [
        "bd = pd.read_csv(\"bulidata.csv\")"
      ],
      "metadata": {
        "id": "ANBeoE5KDoqC"
      },
      "execution_count": 4,
      "outputs": []
    },
    {
      "cell_type": "code",
      "source": [
        "bd.drop(['HOME_ICON'], axis = 1, inplace = True)\n",
        "bd.drop(['AWAY_ICON'], axis = 1, inplace = True)"
      ],
      "metadata": {
        "id": "lJSkKd0qDz7y"
      },
      "execution_count": 5,
      "outputs": []
    },
    {
      "cell_type": "code",
      "source": [
        "a_favor = 0\n",
        "en_contra = 0\n",
        "dif = 0\n",
        "ganado = 0\n",
        "empate = 0\n",
        "derrota = 0\n",
        "puntos = 0\n",
        "PJ = 0\n",
        "\n",
        "class Dortmund:\n",
        "  def __init__(self, pj, win, draw, loss, gf, gc, dif, pts):\n",
        "    self.partidos = pj\n",
        "    self.ganado = win\n",
        "    self.empate = draw\n",
        "    self.derrota = loss\n",
        "    self.favor = gf\n",
        "    self.contra = gc\n",
        "    self.diferencia = dif\n",
        "    self.puntos = pts\n",
        "\n",
        "for i in range(len(bd)):\n",
        "  if bd.HOME_TEAM[i] == \"BVB\":\n",
        "    a_favor = a_favor + bd.GOALS_HOME[i]\n",
        "    en_contra = en_contra + bd.GOALS_AWAY[i]\n",
        "    if bd.GOALS_HOME[i] > bd.GOALS_AWAY[i]:\n",
        "      puntos = puntos + 3\n",
        "      ganado = ganado + 1\n",
        "    elif bd.GOALS_HOME[i] == bd.GOALS_AWAY[i]:\n",
        "      puntos = puntos + 1\n",
        "      empate = empate + 1\n",
        "    else:\n",
        "      puntos = puntos + 0\n",
        "      derrota = derrota + 1\n",
        "  if bd.AWAY_TEAM[i] == \"BVB\":\n",
        "    a_favor = a_favor + bd.GOALS_AWAY[i]\n",
        "    en_contra = en_contra + bd.GOALS_HOME[i]\n",
        "    if bd.GOALS_AWAY[i] > bd.GOALS_HOME[i]:\n",
        "      puntos = puntos + 3\n",
        "      ganado = ganado + 1\n",
        "    elif bd.GOALS_AWAY[i] == bd.GOALS_HOME[i]:\n",
        "      puntos = puntos + 1\n",
        "      empate = empate + 1\n",
        "    else:\n",
        "      puntos = puntos + 0\n",
        "      derrota = derrota + 1\n",
        "\n",
        "PJ = ganado + empate + derrota\n",
        "dif = a_favor - en_contra\n",
        "\n",
        "BVB = Dortmund(PJ,ganado,empate,derrota,a_favor, en_contra, dif, puntos)"
      ],
      "metadata": {
        "id": "8OXTQYX139wg"
      },
      "execution_count": null,
      "outputs": []
    }
  ]
}