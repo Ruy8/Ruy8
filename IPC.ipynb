{
  "cells": [
    {
      "cell_type": "markdown",
      "metadata": {
        "id": "view-in-github",
        "colab_type": "text"
      },
      "source": [
        "<a href=\"https://colab.research.google.com/github/Ruy8/Ruy8/blob/main/IPC.ipynb\" target=\"_parent\"><img src=\"https://colab.research.google.com/assets/colab-badge.svg\" alt=\"Open In Colab\"/></a>"
      ]
    },
    {
      "cell_type": "code",
      "execution_count": 10,
      "metadata": {
        "id": "CBCJjRxDjzmg"
      },
      "outputs": [],
      "source": [
        "# Datos\n",
        "import pandas as pd\n",
        "import numpy as np\n",
        "import io\n",
        "import matplotlib.pyplot as plt\n",
        "from scipy import stats\n",
        "import random as rnd"
      ]
    },
    {
      "cell_type": "code",
      "execution_count": null,
      "metadata": {
        "id": "8xHn9zpslegS"
      },
      "outputs": [],
      "source": [
        "bd = pd.read_csv(\"^MXX.csv\")\n",
        "bd"
      ]
    },
    {
      "cell_type": "code",
      "execution_count": null,
      "metadata": {
        "id": "l_Wa0-gUmL7f"
      },
      "outputs": [],
      "source": [
        "cierre = list()\n",
        "for i in range(1259):\n",
        "  cierre.append(bd.Close[i])\n",
        "cierre[1258]"
      ]
    },
    {
      "cell_type": "code",
      "execution_count": null,
      "metadata": {
        "id": "eUzsBYjisDiD"
      },
      "outputs": [],
      "source": [
        "rendimientos = list()\n",
        "rd = list()\n",
        "for i in range(1,1259):\n",
        "  rendimientos.append(np.log(cierre[i]/cierre[i-1]))\n",
        "rendimientos[1257]"
      ]
    },
    {
      "cell_type": "code",
      "execution_count": null,
      "metadata": {
        "id": "-GO5ID1NvNBP"
      },
      "outputs": [],
      "source": [
        "media = np.mean(rendimientos)\n",
        "desviación = np.std(rendimientos)\n",
        "print(media)\n",
        "print(desviación)"
      ]
    },
    {
      "cell_type": "code",
      "execution_count": null,
      "metadata": {
        "id": "hSABJlSCwP7X"
      },
      "outputs": [],
      "source": [
        "historico = stats.norm(media, desviación)\n",
        "x = np.linspace(historico.ppf(0.00001),historico.ppf(0.99999),1000000)\n",
        "fdp = historico.pdf(x)\n",
        "plt.plot(x,fdp)\n",
        "plt.title(\"Distribución Normal\")\n",
        "plt.ylabel(\"Probabilidad\")\n",
        "plt.xlabel(\"Valores\")\n",
        "plt.xlim(media-(desviación*4),media+(desviación*4))\n",
        "plt.show()"
      ]
    },
    {
      "cell_type": "code",
      "execution_count": null,
      "metadata": {
        "id": "NeHTR1HF2bUP"
      },
      "outputs": [],
      "source": [
        "Rango = max(rendimientos) - min(rendimientos)\n",
        "Clase = 1258**(1/3)\n",
        "Tamaño = Rango/Clase\n",
        "plt.hist(rendimientos, rwidth = 0.9)\n",
        "plt.title(\"Histograma de rendimientos del IPC\")\n",
        "plt.xlabel(\"Rendimiento\")\n",
        "plt.ylabel(\"Frecuencia\")\n",
        "plt.show()"
      ]
    },
    {
      "cell_type": "code",
      "source": [
        "rs = list()\n",
        "for i in range(1258):\n",
        "  rs.append(rnd.gauss(media,desviación))\n",
        "simulado = stats.norm(media,desviación)\n",
        "x = np.linspace(simulado.ppf(0.00001),simulado.ppf(0.99999),1000000)\n",
        "fdp = simulado.pdf(x)\n",
        "plt.plot(x,fdp)\n",
        "plt.title(\"Distribución normal simulada\")\n",
        "plt.ylabel(\"Probabilidad\")\n",
        "plt.xlabel(\"Valores\")\n",
        "plt.xlim(media-(desviación*4), media+(desviación*4))\n",
        "plt.show()"
      ],
      "metadata": {
        "id": "XhAp9VT-PKzX"
      },
      "execution_count": null,
      "outputs": []
    },
    {
      "cell_type": "code",
      "source": [
        "print(max(rs))\n",
        "print(min(rs))"
      ],
      "metadata": {
        "id": "C9iPk8OoUFJk"
      },
      "execution_count": null,
      "outputs": []
    },
    {
      "cell_type": "code",
      "source": [
        "plt.hist(rs,rwidth=0.9)\n",
        "plt.title(\"Histograma de rendimientos simulados del IPC\")\n",
        "plt.xlabel(\"Rendimiento\")\n",
        "plt.ylabel(\"Frecuencia\")\n",
        "plt.show()"
      ],
      "metadata": {
        "id": "PHilw-vMS5N_"
      },
      "execution_count": null,
      "outputs": []
    }
  ],
  "metadata": {
    "colab": {
      "provenance": [],
      "authorship_tag": "ABX9TyPArMyYRKhyg97rw4pt4DpF",
      "include_colab_link": true
    },
    "kernelspec": {
      "display_name": "Python 3",
      "name": "python3"
    },
    "language_info": {
      "name": "python"
    }
  },
  "nbformat": 4,
  "nbformat_minor": 0
}