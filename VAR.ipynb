{
  "nbformat": 4,
  "nbformat_minor": 0,
  "metadata": {
    "colab": {
      "provenance": [],
      "authorship_tag": "ABX9TyOM4wDJ/0CBam55UNEYqAOe",
      "include_colab_link": true
    },
    "kernelspec": {
      "name": "python3",
      "display_name": "Python 3"
    },
    "language_info": {
      "name": "python"
    }
  },
  "cells": [
    {
      "cell_type": "markdown",
      "metadata": {
        "id": "view-in-github",
        "colab_type": "text"
      },
      "source": [
        "<a href=\"https://colab.research.google.com/github/Ruy8/Ruy8/blob/main/VAR.ipynb\" target=\"_parent\"><img src=\"https://colab.research.google.com/assets/colab-badge.svg\" alt=\"Open In Colab\"/></a>"
      ]
    },
    {
      "cell_type": "code",
      "execution_count": 1,
      "metadata": {
        "id": "Us8lFcXMKgHU"
      },
      "outputs": [],
      "source": [
        "import pandas as pd\n",
        "import numpy as np\n",
        "import matplotlib.pyplot as plt\n",
        "import io"
      ]
    },
    {
      "cell_type": "markdown",
      "source": [
        "Calcular VaR (Value at Risk) de un portafolio con los precios históricos de CEMEX Y ARA desde el 04/01/2021 hasta el 27/02/2023"
      ],
      "metadata": {
        "id": "U5qWoBPILlJv"
      }
    },
    {
      "cell_type": "code",
      "source": [
        "cemex = pd.read_csv(\"CEMEXCPO.MX.csv\")\n",
        "ara = pd.read_csv(\"ARA.MX.csv\")"
      ],
      "metadata": {
        "id": "pkKvt4O_L2po"
      },
      "execution_count": 2,
      "outputs": []
    },
    {
      "cell_type": "code",
      "source": [
        "cierre_cmx = list()\n",
        "cierre_ara = list()\n",
        "for i in range(545):\n",
        "  cierre_cmx.append(cemex.Close[i])\n",
        "  cierre_ara.append(ara.Close[i])"
      ],
      "metadata": {
        "id": "r71f8dT5MLg2"
      },
      "execution_count": 3,
      "outputs": []
    },
    {
      "cell_type": "markdown",
      "source": [
        "Cálculo de los rendimientos diarios de las acciones"
      ],
      "metadata": {
        "id": "cc5k4ot5TNva"
      }
    },
    {
      "cell_type": "code",
      "source": [
        "rendimientos_cmx = list()\n",
        "rendimientos_ara = list()\n",
        "for i in range(1,545):\n",
        "  rendimientos_cmx.append(np.log(cierre_cmx[i]/cierre_cmx[i-1]))\n",
        "  rendimientos_ara.append(np.log(cierre_ara[i]/cierre_ara[i-1]))"
      ],
      "metadata": {
        "id": "h83hYyYGNq0H"
      },
      "execution_count": 4,
      "outputs": []
    },
    {
      "cell_type": "code",
      "source": [
        "posición_cmx = 150\n",
        "posición_ara = 260\n",
        "precio_cmx = cemex.Close[544]\n",
        "precio_ara = ara.Close[544]\n",
        "W_cmx = posición_cmx*precio_cmx\n",
        "W_ara = posición_ara*precio_ara\n",
        "MtM = W_cmx + W_ara\n",
        "print(\"El precio de cierre de la acción de CEMEX al 27 de febrero de 2023 fue de:\", precio_cmx)\n",
        "print(\"El precio de cierre de la acción de ARA al 27 de febrero de 2023 fue de:\", precio_ara)"
      ],
      "metadata": {
        "id": "sfCK2G2KPdnw",
        "colab": {
          "base_uri": "https://localhost:8080/"
        },
        "outputId": "2382a87f-eca1-4cc8-fb51-1691465fc734"
      },
      "execution_count": 5,
      "outputs": [
        {
          "output_type": "stream",
          "name": "stdout",
          "text": [
            "El precio de cierre de la acción de CEMEX al 27 de febrero de 2023 fue de: 8.97\n",
            "El precio de cierre de la acción de ARA al 27 de febrero de 2023 fue de: 3.86\n"
          ]
        }
      ]
    },
    {
      "cell_type": "markdown",
      "source": [
        "Cálculo del precio simulado de las acciones en base a su rendimiento diario"
      ],
      "metadata": {
        "id": "-RDQ8u_YTV_q"
      }
    },
    {
      "cell_type": "code",
      "source": [
        "precio_simulado_cmx = list()\n",
        "precio_simulado_ara = list()\n",
        "for i in range(544):\n",
        "  precio_simulado_cmx.append(precio_cmx*(1+rendimientos_cmx[i]))\n",
        "  precio_simulado_ara.append(precio_ara*(1+rendimientos_ara[i]))"
      ],
      "metadata": {
        "id": "EjUbquU1SMtL"
      },
      "execution_count": 6,
      "outputs": []
    },
    {
      "cell_type": "markdown",
      "source": [
        "Cálculo del Mark to Market simulado"
      ],
      "metadata": {
        "id": "YpDRVFg4Ta4y"
      }
    },
    {
      "cell_type": "code",
      "source": [
        "MtM_cmx = list()\n",
        "MtM_ara = list()\n",
        "MtM_total = list()\n",
        "for i in range(544):\n",
        "  MtM_cmx.append(posición_cmx*precio_simulado_cmx[i])\n",
        "  MtM_ara.append(posición_ara*precio_simulado_ara[i])\n",
        "  MtM_total.append(MtM_cmx[i]+MtM_ara[i])"
      ],
      "metadata": {
        "id": "3JzKsGbHTaZy"
      },
      "execution_count": 7,
      "outputs": []
    },
    {
      "cell_type": "markdown",
      "source": [
        "Calcular vector P&L (Profit & Loss)"
      ],
      "metadata": {
        "id": "TVpG4L9_VGlz"
      }
    },
    {
      "cell_type": "code",
      "source": [
        "pl = list()\n",
        "prob = list()\n",
        "acum = list()\n",
        "prob_acum = 0\n",
        "for i in range(544):\n",
        "  pl.append(MtM_total[i]-MtM)\n",
        "  prob.append(1/544)\n",
        "  prob_acum = prob[i] + prob_acum\n",
        "  acum.append(prob_acum)"
      ],
      "metadata": {
        "id": "kmW8NNQOVGJR"
      },
      "execution_count": 8,
      "outputs": []
    },
    {
      "cell_type": "markdown",
      "source": [
        "Calcular el VaR interpolado"
      ],
      "metadata": {
        "id": "f6TZBmDKXWY_"
      }
    },
    {
      "cell_type": "code",
      "source": [
        "pl = sorted(pl)\n",
        "df = pd.DataFrame()\n",
        "df['P&L'] = pl\n",
        "df['Probabilidad'] = prob\n",
        "df['Probabilidad Acumulada'] = acum\n",
        "VaR = (0.01-acum[4])/(acum[5]-acum[4])*(pl[5]-pl[4])+pl[4]\n",
        "print(\"La pérdida esperada de este portafolio al 99% de confianza es de: \", VaR)"
      ],
      "metadata": {
        "colab": {
          "base_uri": "https://localhost:8080/"
        },
        "id": "Kf93MQ__bXD2",
        "outputId": "b9ccb9f7-fa91-462f-eca7-c69e5cec546f"
      },
      "execution_count": 9,
      "outputs": [
        {
          "output_type": "stream",
          "name": "stdout",
          "text": [
            "La pérdida esperada de este portafolio al 99% de confianza es de:  -95.56514037760242\n"
          ]
        }
      ]
    }
  ]
}